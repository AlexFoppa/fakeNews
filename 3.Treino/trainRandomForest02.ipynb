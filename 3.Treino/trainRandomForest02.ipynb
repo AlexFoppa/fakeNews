{
 "cells": [
  {
   "cell_type": "code",
   "execution_count": 14,
   "metadata": {
    "id": "b4BMFjVAbaEi"
   },
   "outputs": [],
   "source": [
    "#Impory the libraries\n",
    "import numpy as np\n",
    "import matplotlib.pyplot as plt\n",
    "import pandas as pd \n",
    "import pickle"
   ]
  },
  {
   "cell_type": "code",
   "execution_count": 15,
   "metadata": {
    "id": "5Lu-Fd7UbhiS"
   },
   "outputs": [],
   "source": [
    "#load data\n",
    "originalDataset = pd.read_csv('news_articles.csv')\n",
    "textData = originalDataset.iloc[:,10]\n",
    "fakeOrReal = originalDataset.iloc[:,8]\n",
    "fakeOrReal = fakeOrReal.replace(['Real'],1)\n",
    "fakeOrReal = fakeOrReal.replace(['Fake'],0)\n",
    "dataset = pd.concat([textData, fakeOrReal], axis=1, sort=False)\n",
    "dataset.drop(dataset.tail(50).index,inplace=True)"
   ]
  },
  {
   "cell_type": "code",
   "execution_count": 24,
   "metadata": {},
   "outputs": [
    {
     "name": "stdout",
     "output_type": "stream",
     "text": [
      "                                 text_without_stopwords  label\n",
      "0     print pay back money plus interest entire fami...    1.0\n",
      "1     attorney general loretta lynch plead fifth bar...    1.0\n",
      "2     red state fox news sunday reported morning ant...    1.0\n",
      "3     email kayla mueller prisoner tortured isis cha...    1.0\n",
      "4     email healthcare reform make america great sin...    1.0\n",
      "...                                                 ...    ...\n",
      "2041  check hillarythemed haunted house anticlinton ...    1.0\n",
      "2042  good samaritan wearing indian headdress disarm...    1.0\n",
      "2043  skype sex scam fortune built shame moroccan bo...    1.0\n",
      "2044  posted eddie skyhigh potency may scare away cr...    1.0\n",
      "2045  billion even known keeping supposedly deleted ...    1.0\n",
      "\n",
      "[2046 rows x 2 columns]\n"
     ]
    }
   ],
   "source": [
    "print(dataset)"
   ]
  },
  {
   "cell_type": "code",
   "execution_count": 16,
   "metadata": {
    "id": "J3kTsPdXbhlK"
   },
   "outputs": [],
   "source": [
    "#creating bag of words\n",
    "from sklearn.feature_extraction.text import CountVectorizer\n",
    "cv = CountVectorizer(max_features = 1500)\n",
    "X = cv.fit_transform(dataset.iloc[:,0]).toarray()\n",
    "y = dataset.iloc[:,-1]"
   ]
  },
  {
   "cell_type": "code",
   "execution_count": 17,
   "metadata": {
    "id": "uHT8ehlhbhoL"
   },
   "outputs": [],
   "source": [
    "# Splitting the dataset into the Training set and Test set\n",
    "from sklearn.model_selection import train_test_split\n",
    "X_train, X_test, y_train, y_test = train_test_split(X, y, test_size = 0.30, random_state = 1)"
   ]
  },
  {
   "cell_type": "code",
   "execution_count": 18,
   "metadata": {
    "colab": {
     "base_uri": "https://localhost:8080/",
     "height": 153
    },
    "id": "Ja1yPYXVbhq6",
    "outputId": "3e5f94df-f677-48ae-bf51-36768ad57fa5"
   },
   "outputs": [
    {
     "data": {
      "text/plain": [
       "RandomForestClassifier(bootstrap=True, ccp_alpha=0.0, class_weight=None,\n",
       "                       criterion='entropy', max_depth=75, max_features='auto',\n",
       "                       max_leaf_nodes=None, max_samples=None,\n",
       "                       min_impurity_decrease=0.0, min_impurity_split=None,\n",
       "                       min_samples_leaf=1, min_samples_split=2,\n",
       "                       min_weight_fraction_leaf=0.0, n_estimators=100,\n",
       "                       n_jobs=None, oob_score=False, random_state=None,\n",
       "                       verbose=0, warm_start=False)"
      ]
     },
     "execution_count": 18,
     "metadata": {},
     "output_type": "execute_result"
    }
   ],
   "source": [
    "from sklearn.ensemble import RandomForestClassifier\n",
    "classifier = RandomForestClassifier(n_estimators = 100, criterion = 'entropy', max_depth = 75)\n",
    "classifier.fit(X_train, y_train)"
   ]
  },
  {
   "cell_type": "code",
   "execution_count": 19,
   "metadata": {
    "id": "OvuZ9Afqbhtz"
   },
   "outputs": [],
   "source": [
    "# Predicting the Test set results\n",
    "y_pred = classifier.predict(X_test)"
   ]
  },
  {
   "cell_type": "code",
   "execution_count": 20,
   "metadata": {
    "colab": {
     "base_uri": "https://localhost:8080/",
     "height": 51
    },
    "id": "AsCtBbTtbhwr",
    "outputId": "92573d63-5633-444b-8d86-da8ac2140473"
   },
   "outputs": [
    {
     "data": {
      "text/plain": [
       "array([[256,  17],\n",
       "       [ 65,  72]], dtype=int64)"
      ]
     },
     "execution_count": 20,
     "metadata": {},
     "output_type": "execute_result"
    }
   ],
   "source": [
    "# Making the Confusion Matrix\n",
    "from sklearn.metrics import confusion_matrix\n",
    "cm = confusion_matrix(y_test, y_pred)\n",
    "cm"
   ]
  },
  {
   "cell_type": "code",
   "execution_count": 21,
   "metadata": {
    "id": "5qyFpxwkbhz6"
   },
   "outputs": [],
   "source": [
    "#Save file\n",
    "filename = 'modelXX_randomForest.sav'\n",
    "pickle.dump(classifier, open(filename, 'wb'))"
   ]
  },
  {
   "cell_type": "code",
   "execution_count": 22,
   "metadata": {
    "colab": {
     "base_uri": "https://localhost:8080/",
     "height": 34
    },
    "id": "oPM4PMorbh2i",
    "outputId": "c8160ebf-96ca-46c1-8fb2-714ed1e06cc7"
   },
   "outputs": [
    {
     "name": "stdout",
     "output_type": "stream",
     "text": [
      "0.8\n"
     ]
    }
   ],
   "source": [
    "loaded_model = pickle.load(open(filename, 'rb'))\n",
    "result = loaded_model.score(X_test, y_test)\n",
    "print(result)"
   ]
  },
  {
   "cell_type": "code",
   "execution_count": 23,
   "metadata": {
    "colab": {
     "base_uri": "https://localhost:8080/",
     "height": 51
    },
    "id": "8UfhGxwobh5a",
    "outputId": "6a2f98f6-0043-402e-aa00-8d398995c5fe"
   },
   "outputs": [
    {
     "data": {
      "text/plain": [
       "array([[228,  45],\n",
       "       [ 41,  96]], dtype=int64)"
      ]
     },
     "execution_count": 23,
     "metadata": {},
     "output_type": "execute_result"
    }
   ],
   "source": [
    "#move threshold\n",
    "threshold = 0.425\n",
    "\n",
    "predicted_proba = classifier.predict_proba(X_test)\n",
    "predicted = (predicted_proba [:,1] >= threshold).astype('int')\n",
    "\n",
    "cm = confusion_matrix(y_test, predicted)\n",
    "cm"
   ]
  }
 ],
 "metadata": {
  "colab": {
   "name": "trainRandomForest02.ipynb",
   "provenance": []
  },
  "kernelspec": {
   "display_name": "Python 3",
   "language": "python",
   "name": "python3"
  },
  "language_info": {
   "codemirror_mode": {
    "name": "ipython",
    "version": 3
   },
   "file_extension": ".py",
   "mimetype": "text/x-python",
   "name": "python",
   "nbconvert_exporter": "python",
   "pygments_lexer": "ipython3",
   "version": "3.7.6"
  }
 },
 "nbformat": 4,
 "nbformat_minor": 1
}
