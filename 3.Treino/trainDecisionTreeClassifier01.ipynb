{
  "nbformat": 4,
  "nbformat_minor": 0,
  "metadata": {
    "colab": {
      "name": "trainDecisionTreeClassifier01.ipynb",
      "provenance": [],
      "collapsed_sections": []
    },
    "kernelspec": {
      "name": "python3",
      "display_name": "Python 3"
    }
  },
  "cells": [
    {
      "cell_type": "code",
      "metadata": {
        "id": "bGvuxpbA2bEA"
      },
      "source": [
        "#Impory the libraries\n",
        "import numpy as np\n",
        "import matplotlib.pyplot as plt\n",
        "import pandas as pd \n",
        "import pickle"
      ],
      "execution_count": 1,
      "outputs": []
    },
    {
      "cell_type": "code",
      "metadata": {
        "id": "BtRlfCBK2upH"
      },
      "source": [
        "#load data\n",
        "originalDataset = pd.read_csv('news_articles.csv')\n",
        "textData = originalDataset.iloc[:,10]\n",
        "fakeOrReal = originalDataset.iloc[:,8]\n",
        "dataset = pd.concat([textData, fakeOrReal], axis=1, sort=False)\n",
        "dataset.drop(dataset.tail(50).index,inplace=True)"
      ],
      "execution_count": 3,
      "outputs": []
    },
    {
      "cell_type": "code",
      "metadata": {
        "id": "Uf2Te0OY21Zx",
        "outputId": "b60fa916-914c-41f8-cf02-3a32aa1c6ae1",
        "colab": {
          "base_uri": "https://localhost:8080/",
          "height": 142
        }
      },
      "source": [
        "dataset.head(3)"
      ],
      "execution_count": 4,
      "outputs": [
        {
          "output_type": "execute_result",
          "data": {
            "text/html": [
              "<div>\n",
              "<style scoped>\n",
              "    .dataframe tbody tr th:only-of-type {\n",
              "        vertical-align: middle;\n",
              "    }\n",
              "\n",
              "    .dataframe tbody tr th {\n",
              "        vertical-align: top;\n",
              "    }\n",
              "\n",
              "    .dataframe thead th {\n",
              "        text-align: right;\n",
              "    }\n",
              "</style>\n",
              "<table border=\"1\" class=\"dataframe\">\n",
              "  <thead>\n",
              "    <tr style=\"text-align: right;\">\n",
              "      <th></th>\n",
              "      <th>text_without_stopwords</th>\n",
              "      <th>label</th>\n",
              "    </tr>\n",
              "  </thead>\n",
              "  <tbody>\n",
              "    <tr>\n",
              "      <th>0</th>\n",
              "      <td>print pay back money plus interest entire fami...</td>\n",
              "      <td>Real</td>\n",
              "    </tr>\n",
              "    <tr>\n",
              "      <th>1</th>\n",
              "      <td>attorney general loretta lynch plead fifth bar...</td>\n",
              "      <td>Real</td>\n",
              "    </tr>\n",
              "    <tr>\n",
              "      <th>2</th>\n",
              "      <td>red state fox news sunday reported morning ant...</td>\n",
              "      <td>Real</td>\n",
              "    </tr>\n",
              "  </tbody>\n",
              "</table>\n",
              "</div>"
            ],
            "text/plain": [
              "                              text_without_stopwords label\n",
              "0  print pay back money plus interest entire fami...  Real\n",
              "1  attorney general loretta lynch plead fifth bar...  Real\n",
              "2  red state fox news sunday reported morning ant...  Real"
            ]
          },
          "metadata": {
            "tags": []
          },
          "execution_count": 4
        }
      ]
    },
    {
      "cell_type": "code",
      "metadata": {
        "id": "72ewLD-u22kW"
      },
      "source": [
        "#creating bag of words\n",
        "from sklearn.feature_extraction.text import CountVectorizer\n",
        "cv = CountVectorizer(max_features = 150000)\n",
        "X = cv.fit_transform(dataset.iloc[:,0]).toarray()\n",
        "y = dataset.iloc[:,-1]"
      ],
      "execution_count": 5,
      "outputs": []
    },
    {
      "cell_type": "code",
      "metadata": {
        "id": "0LutBDiZ27hg"
      },
      "source": [
        "# Splitting the dataset into the Training set and Test set\n",
        "# separar aleatoriamente o dataset em base de treino e teste\n",
        "# separar 70% dos registros para treino e 30% para testes \n",
        "from sklearn.model_selection import train_test_split\n",
        "X_train, X_test, y_train, y_test = train_test_split(X, y, test_size = 0.3, random_state = 0)"
      ],
      "execution_count": 6,
      "outputs": []
    },
    {
      "cell_type": "code",
      "metadata": {
        "id": "RUefV6J-3KJI"
      },
      "source": [
        "from sklearn import tree\n",
        "# Definindo o modelo: critério entropia, número de atributos =3 e número mínimo de folhas =5\n",
        "classificador = tree.DecisionTreeClassifier(criterion='gini') #,max_depth=3,  min_samples_leaf=5)"
      ],
      "execution_count": 8,
      "outputs": []
    },
    {
      "cell_type": "code",
      "metadata": {
        "id": "FBEP8ND73cdS"
      },
      "source": [
        "classificador  = classificador.fit(X_train, y_train)"
      ],
      "execution_count": 9,
      "outputs": []
    },
    {
      "cell_type": "code",
      "metadata": {
        "id": "Dr3mZh0r3rZ5"
      },
      "source": [
        "y_pred = classificador.predict(X_test) ##[100:110])\n",
        "y_pred"
      ],
      "execution_count": null,
      "outputs": []
    },
    {
      "cell_type": "code",
      "metadata": {
        "id": "X57jEx4w34sy",
        "outputId": "7178b935-2842-4424-9519-1c311cdb071d",
        "colab": {
          "base_uri": "https://localhost:8080/",
          "height": 102
        }
      },
      "source": [
        "# Making the Detail Confusion Matrix\n",
        "print(pd.crosstab(y_test, y_pred, rownames=['Reais'],colnames=['Preditos'], margins=True))"
      ],
      "execution_count": 12,
      "outputs": [
        {
          "output_type": "stream",
          "text": [
            "Preditos  Fake  Real  All\n",
            "Reais                    \n",
            "Fake       203    13  216\n",
            "Real        18    33   51\n",
            "All        221    46  267\n"
          ],
          "name": "stdout"
        }
      ]
    },
    {
      "cell_type": "code",
      "metadata": {
        "id": "Wqdg8VYm4EYb",
        "outputId": "507e104d-9754-4808-9876-424b42dad324",
        "colab": {
          "base_uri": "https://localhost:8080/",
          "height": 51
        }
      },
      "source": [
        "# Making the Confusion Matrix\n",
        "from sklearn.metrics import confusion_matrix\n",
        "cm = confusion_matrix(y_test, y_pred)\n",
        "cm"
      ],
      "execution_count": 13,
      "outputs": [
        {
          "output_type": "execute_result",
          "data": {
            "text/plain": [
              "array([[203,  13],\n",
              "       [ 18,  33]])"
            ]
          },
          "metadata": {
            "tags": []
          },
          "execution_count": 13
        }
      ]
    },
    {
      "cell_type": "code",
      "metadata": {
        "id": "ps9bNaVw4Tlj",
        "outputId": "c1062617-5d23-4dc2-f8d7-f605a7821c27",
        "colab": {
          "base_uri": "https://localhost:8080/",
          "height": 34
        }
      },
      "source": [
        "# Acurácia do modelo\n",
        "# y_teste estão as classificações corretas \n",
        "# score = compara os dados de testes com os dados de treino (modelo rodou para os dados de treino) \n",
        "resultado = classificador.score(X_test, y_test)\n",
        "print('Acurácia =', resultado)"
      ],
      "execution_count": 16,
      "outputs": [
        {
          "output_type": "stream",
          "text": [
            "Acurácia = 0.8838951310861424\n"
          ],
          "name": "stdout"
        }
      ]
    }
  ]
}