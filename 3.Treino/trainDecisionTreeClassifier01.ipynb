{
 "cells": [
  {
   "cell_type": "code",
   "execution_count": 41,
   "metadata": {
    "id": "bGvuxpbA2bEA"
   },
   "outputs": [],
   "source": [
    "#Impory the libraries\n",
    "import numpy as np\n",
    "import matplotlib.pyplot as plt\n",
    "import pandas as pd \n",
    "import pickle"
   ]
  },
  {
   "cell_type": "code",
   "execution_count": 42,
   "metadata": {
    "id": "BtRlfCBK2upH"
   },
   "outputs": [],
   "source": [
    "#load data\n",
    "originalDataset = pd.read_csv('news_articles.csv')\n",
    "textData = originalDataset.iloc[:,10]\n",
    "fakeOrReal = originalDataset.iloc[:,8]\n",
    "dataset = pd.concat([textData, fakeOrReal], axis=1, sort=False)\n",
    "dataset.drop(dataset.tail(50).index,inplace=True)"
   ]
  },
  {
   "cell_type": "code",
   "execution_count": 43,
   "metadata": {
    "colab": {
     "base_uri": "https://localhost:8080/",
     "height": 142
    },
    "id": "Uf2Te0OY21Zx",
    "outputId": "b60fa916-914c-41f8-cf02-3a32aa1c6ae1"
   },
   "outputs": [
    {
     "data": {
      "text/html": [
       "<div>\n",
       "<style scoped>\n",
       "    .dataframe tbody tr th:only-of-type {\n",
       "        vertical-align: middle;\n",
       "    }\n",
       "\n",
       "    .dataframe tbody tr th {\n",
       "        vertical-align: top;\n",
       "    }\n",
       "\n",
       "    .dataframe thead th {\n",
       "        text-align: right;\n",
       "    }\n",
       "</style>\n",
       "<table border=\"1\" class=\"dataframe\">\n",
       "  <thead>\n",
       "    <tr style=\"text-align: right;\">\n",
       "      <th></th>\n",
       "      <th>text_without_stopwords</th>\n",
       "      <th>label</th>\n",
       "    </tr>\n",
       "  </thead>\n",
       "  <tbody>\n",
       "    <tr>\n",
       "      <th>0</th>\n",
       "      <td>print pay back money plus interest entire fami...</td>\n",
       "      <td>Real</td>\n",
       "    </tr>\n",
       "    <tr>\n",
       "      <th>1</th>\n",
       "      <td>attorney general loretta lynch plead fifth bar...</td>\n",
       "      <td>Real</td>\n",
       "    </tr>\n",
       "    <tr>\n",
       "      <th>2</th>\n",
       "      <td>red state fox news sunday reported morning ant...</td>\n",
       "      <td>Real</td>\n",
       "    </tr>\n",
       "  </tbody>\n",
       "</table>\n",
       "</div>"
      ],
      "text/plain": [
       "                              text_without_stopwords label\n",
       "0  print pay back money plus interest entire fami...  Real\n",
       "1  attorney general loretta lynch plead fifth bar...  Real\n",
       "2  red state fox news sunday reported morning ant...  Real"
      ]
     },
     "execution_count": 43,
     "metadata": {},
     "output_type": "execute_result"
    }
   ],
   "source": [
    "dataset.head(3)"
   ]
  },
  {
   "cell_type": "code",
   "execution_count": 45,
   "metadata": {
    "id": "72ewLD-u22kW"
   },
   "outputs": [],
   "source": [
    "#creating bag of words\n",
    "from sklearn.feature_extraction.text import CountVectorizer\n",
    "cv = CountVectorizer(max_features = 150000)\n",
    "X = cv.fit_transform(dataset.iloc[:,0]).toarray()\n",
    "y = dataset.iloc[:,-1]"
   ]
  },
  {
   "cell_type": "code",
   "execution_count": 46,
   "metadata": {
    "id": "0LutBDiZ27hg"
   },
   "outputs": [],
   "source": [
    "# Splitting the dataset into the Training set and Test set\n",
    "# separar aleatoriamente o dataset em base de treino e teste\n",
    "# separar 80% dos registros para treino e 20% para testes \n",
    "from sklearn.model_selection import train_test_split\n",
    "X_train, X_test, y_train, y_test = train_test_split(X, y, test_size = 0.2, random_state = 1)"
   ]
  },
  {
   "cell_type": "code",
   "execution_count": 47,
   "metadata": {
    "id": "RUefV6J-3KJI"
   },
   "outputs": [],
   "source": [
    "from sklearn import tree\n",
    "# Definindo o modelo: critério entropia, número de atributos =3 e número mínimo de folhas =5\n",
    "classificador = tree.DecisionTreeClassifier(criterion='gini') #,max_depth=3,  min_samples_leaf=5)"
   ]
  },
  {
   "cell_type": "code",
   "execution_count": 48,
   "metadata": {
    "id": "FBEP8ND73cdS"
   },
   "outputs": [],
   "source": [
    "classificador  = classificador.fit(X_train, y_train)"
   ]
  },
  {
   "cell_type": "code",
   "execution_count": 49,
   "metadata": {
    "id": "Dr3mZh0r3rZ5"
   },
   "outputs": [
    {
     "data": {
      "text/plain": [
       "array(['Real', 'Fake', 'Fake', 'Fake', 'Fake', 'Fake', 'Real', 'Fake',\n",
       "       'Fake', 'Real', 'Fake', 'Real', 'Real', 'Real', 'Fake', 'Fake',\n",
       "       'Real', 'Real', 'Fake', 'Real', 'Fake', 'Fake', 'Fake', 'Fake',\n",
       "       'Real', 'Real', 'Real', 'Real', 'Real', 'Fake', 'Real', 'Fake',\n",
       "       'Real', 'Real', 'Fake', 'Fake', 'Real', 'Fake', 'Fake', 'Fake',\n",
       "       'Fake', 'Real', 'Fake', 'Fake', 'Real', 'Fake', 'Real', 'Real',\n",
       "       'Fake', 'Fake', 'Fake', 'Real', 'Real', 'Fake', 'Fake', 'Real',\n",
       "       'Fake', 'Fake', 'Fake', 'Real', 'Fake', 'Real', 'Real', 'Fake',\n",
       "       'Real', 'Fake', 'Real', 'Fake', 'Fake', 'Fake', 'Fake', 'Fake',\n",
       "       'Real', 'Real', 'Fake', 'Fake', 'Fake', 'Fake', 'Fake', 'Real',\n",
       "       'Real', 'Fake', 'Real', 'Fake', 'Fake', 'Fake', 'Fake', 'Real',\n",
       "       'Fake', 'Real', 'Real', 'Fake', 'Fake', 'Fake', 'Fake', 'Real',\n",
       "       'Fake', 'Fake', 'Real', 'Fake', 'Fake', 'Fake', 'Real', 'Fake',\n",
       "       'Fake', 'Fake', 'Real', 'Real', 'Real', 'Fake', 'Fake', 'Fake',\n",
       "       'Fake', 'Fake', 'Fake', 'Real', 'Fake', 'Real', 'Fake', 'Fake',\n",
       "       'Fake', 'Real', 'Fake', 'Fake', 'Fake', 'Real', 'Fake', 'Fake',\n",
       "       'Fake', 'Real', 'Fake', 'Real', 'Fake', 'Real', 'Real', 'Fake',\n",
       "       'Real', 'Fake', 'Real', 'Fake', 'Fake', 'Fake', 'Fake', 'Fake',\n",
       "       'Fake', 'Real', 'Real', 'Fake', 'Fake', 'Fake', 'Real', 'Real',\n",
       "       'Fake', 'Fake', 'Fake', 'Fake', 'Fake', 'Real', 'Fake', 'Fake',\n",
       "       'Real', 'Fake', 'Fake', 'Real', 'Fake', 'Fake', 'Fake', 'Real',\n",
       "       'Fake', 'Fake', 'Real', 'Fake', 'Real', 'Fake', 'Fake', 'Fake',\n",
       "       'Fake', 'Real', 'Fake', 'Real', 'Fake', 'Fake', 'Fake', 'Fake',\n",
       "       'Fake', 'Real', 'Real', 'Real', 'Fake', 'Fake', 'Real', 'Real',\n",
       "       'Fake', 'Real', 'Fake', 'Fake', 'Fake', 'Real', 'Fake', 'Fake',\n",
       "       'Real', 'Fake', 'Fake', 'Fake', 'Real', 'Fake', 'Fake', 'Fake',\n",
       "       'Fake', 'Fake', 'Fake', 'Fake', 'Fake', 'Fake', 'Real', 'Fake',\n",
       "       'Fake', 'Fake', 'Fake', 'Real', 'Fake', 'Fake', 'Real', 'Real',\n",
       "       'Fake', 'Real', 'Real', 'Fake', 'Fake', 'Real', 'Fake', 'Real',\n",
       "       'Real', 'Fake', 'Real', 'Fake', 'Fake', 'Fake', 'Fake', 'Fake',\n",
       "       'Fake', 'Fake', 'Fake', 'Fake', 'Fake', 'Real', 'Fake', 'Fake',\n",
       "       'Real', 'Fake', 'Fake', 'Fake', 'Fake', 'Real', 'Fake', 'Fake',\n",
       "       'Real', 'Real', 'Fake', 'Fake', 'Fake', 'Fake', 'Fake', 'Real',\n",
       "       'Real', 'Fake', 'Real', 'Fake', 'Fake', 'Fake', 'Real', 'Real',\n",
       "       'Fake', 'Fake', 'Real', 'Real', 'Fake', 'Real', 'Fake', 'Real',\n",
       "       'Fake', 'Real', 'Fake', 'Fake', 'Fake', 'Fake', 'Fake', 'Fake',\n",
       "       'Real', 'Real', 'Fake', 'Fake', 'Fake', 'Fake', 'Real', 'Fake',\n",
       "       'Fake', 'Real', 'Real', 'Real', 'Fake', 'Fake', 'Real', 'Real',\n",
       "       'Fake', 'Fake', 'Real', 'Fake', 'Fake', 'Fake', 'Fake', 'Real',\n",
       "       'Fake', 'Real', 'Fake', 'Fake', 'Real', 'Fake', 'Fake', 'Fake',\n",
       "       'Real', 'Fake', 'Fake', 'Real', 'Real', 'Fake', 'Real', 'Real',\n",
       "       'Fake', 'Real', 'Fake', 'Fake', 'Fake', 'Fake', 'Fake', 'Fake',\n",
       "       'Fake', 'Fake', 'Fake', 'Real', 'Real', 'Fake', 'Real', 'Fake',\n",
       "       'Real', 'Real', 'Fake', 'Real', 'Fake', 'Fake', 'Fake', 'Fake',\n",
       "       'Fake', 'Real', 'Fake', 'Real', 'Real', 'Real', 'Real', 'Real',\n",
       "       'Fake', 'Fake', 'Real', 'Real', 'Fake', 'Fake', 'Fake', 'Fake',\n",
       "       'Fake', 'Real', 'Real', 'Real', 'Real', 'Fake', 'Real', 'Real',\n",
       "       'Real', 'Fake', 'Fake', 'Real', 'Real', 'Real', 'Fake', 'Fake',\n",
       "       'Fake', 'Fake', 'Fake', 'Real', 'Real', 'Real', 'Real', 'Fake',\n",
       "       'Real', 'Fake', 'Fake', 'Fake', 'Fake', 'Fake', 'Fake', 'Fake',\n",
       "       'Fake', 'Fake', 'Fake', 'Real', 'Fake', 'Fake', 'Real', 'Real',\n",
       "       'Real', 'Fake'], dtype=object)"
      ]
     },
     "execution_count": 49,
     "metadata": {},
     "output_type": "execute_result"
    }
   ],
   "source": [
    "y_pred = classificador.predict(X_test) ##[100:110])\n",
    "y_pred"
   ]
  },
  {
   "cell_type": "code",
   "execution_count": 50,
   "metadata": {
    "colab": {
     "base_uri": "https://localhost:8080/",
     "height": 102
    },
    "id": "X57jEx4w34sy",
    "outputId": "7178b935-2842-4424-9519-1c311cdb071d"
   },
   "outputs": [
    {
     "name": "stdout",
     "output_type": "stream",
     "text": [
      "Preditos  Fake  Real  All\n",
      "Reais                    \n",
      "Fake       217    56  273\n",
      "Real        42    95  137\n",
      "All        259   151  410\n"
     ]
    }
   ],
   "source": [
    "# Making the Detail Confusion Matrix\n",
    "print(pd.crosstab(y_test, y_pred, rownames=['Reais'],colnames=['Preditos'], margins=True))"
   ]
  },
  {
   "cell_type": "code",
   "execution_count": 51,
   "metadata": {
    "colab": {
     "base_uri": "https://localhost:8080/",
     "height": 51
    },
    "id": "Wqdg8VYm4EYb",
    "outputId": "507e104d-9754-4808-9876-424b42dad324"
   },
   "outputs": [
    {
     "data": {
      "text/plain": [
       "array([[217,  56],\n",
       "       [ 42,  95]], dtype=int64)"
      ]
     },
     "execution_count": 51,
     "metadata": {},
     "output_type": "execute_result"
    }
   ],
   "source": [
    "# Making the Confusion Matrix\n",
    "from sklearn.metrics import confusion_matrix\n",
    "cm = confusion_matrix(y_test, y_pred)\n",
    "cm"
   ]
  },
  {
   "cell_type": "code",
   "execution_count": 52,
   "metadata": {
    "colab": {
     "base_uri": "https://localhost:8080/",
     "height": 34
    },
    "id": "ps9bNaVw4Tlj",
    "outputId": "c1062617-5d23-4dc2-f8d7-f605a7821c27"
   },
   "outputs": [
    {
     "name": "stdout",
     "output_type": "stream",
     "text": [
      "Acurácia = 0.7609756097560976\n"
     ]
    }
   ],
   "source": [
    "# Acurácia do modelo\n",
    "# y_teste estão as classificações corretas \n",
    "# score = compara os dados de testes com os dados de treino (modelo rodou para os dados de treino) \n",
    "resultado = classificador.score(X_test, y_test)\n",
    "print('Acurácia =', resultado)"
   ]
  },
  {
   "cell_type": "code",
   "execution_count": 53,
   "metadata": {},
   "outputs": [],
   "source": [
    "filename = 'model18_dtrd1.sav'\n",
    "pickle.dump(classificador, open(filename, 'wb'))"
   ]
  }
 ],
 "metadata": {
  "colab": {
   "collapsed_sections": [],
   "name": "trainDecisionTreeClassifier01.ipynb",
   "provenance": []
  },
  "kernelspec": {
   "display_name": "Python 3",
   "language": "python",
   "name": "python3"
  },
  "language_info": {
   "codemirror_mode": {
    "name": "ipython",
    "version": 3
   },
   "file_extension": ".py",
   "mimetype": "text/x-python",
   "name": "python",
   "nbconvert_exporter": "python",
   "pygments_lexer": "ipython3",
   "version": "3.7.6"
  }
 },
 "nbformat": 4,
 "nbformat_minor": 1
}
