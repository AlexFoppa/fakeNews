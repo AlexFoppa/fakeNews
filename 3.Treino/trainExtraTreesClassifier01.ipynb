{
 "cells": [
  {
   "cell_type": "code",
   "execution_count": 71,
   "metadata": {
    "id": "fWeFm5b2vNMd"
   },
   "outputs": [],
   "source": [
    "#Impory the libraries\n",
    "import numpy as np\n",
    "import matplotlib.pyplot as plt\n",
    "import pandas as pd \n",
    "import pickle"
   ]
  },
  {
   "cell_type": "code",
   "execution_count": 72,
   "metadata": {
    "id": "yYSElr2AvToJ"
   },
   "outputs": [],
   "source": [
    "#load data\n",
    "originalDataset = pd.read_csv('news_articles.csv')\n",
    "textData = originalDataset.iloc[:,10]\n",
    "fakeOrReal = originalDataset.iloc[:,8]\n",
    "fakeOrReal = fakeOrReal.replace(['Real'],1)\n",
    "fakeOrReal = fakeOrReal.replace(['Fake'],0)\n",
    "dataset = pd.concat([textData, fakeOrReal], axis=1, sort=False)\n",
    "dataset.drop(dataset.tail(50).index,inplace=True)"
   ]
  },
  {
   "cell_type": "code",
   "execution_count": 73,
   "metadata": {
    "colab": {
     "base_uri": "https://localhost:8080/",
     "height": 142
    },
    "id": "8c4Mpbm3vUxp",
    "outputId": "88ee2fc2-4acc-48ee-9eba-d8e9cae9c73b"
   },
   "outputs": [
    {
     "data": {
      "text/html": [
       "<div>\n",
       "<style scoped>\n",
       "    .dataframe tbody tr th:only-of-type {\n",
       "        vertical-align: middle;\n",
       "    }\n",
       "\n",
       "    .dataframe tbody tr th {\n",
       "        vertical-align: top;\n",
       "    }\n",
       "\n",
       "    .dataframe thead th {\n",
       "        text-align: right;\n",
       "    }\n",
       "</style>\n",
       "<table border=\"1\" class=\"dataframe\">\n",
       "  <thead>\n",
       "    <tr style=\"text-align: right;\">\n",
       "      <th></th>\n",
       "      <th>text_without_stopwords</th>\n",
       "      <th>label</th>\n",
       "    </tr>\n",
       "  </thead>\n",
       "  <tbody>\n",
       "    <tr>\n",
       "      <th>0</th>\n",
       "      <td>print pay back money plus interest entire fami...</td>\n",
       "      <td>1.0</td>\n",
       "    </tr>\n",
       "    <tr>\n",
       "      <th>1</th>\n",
       "      <td>attorney general loretta lynch plead fifth bar...</td>\n",
       "      <td>1.0</td>\n",
       "    </tr>\n",
       "    <tr>\n",
       "      <th>2</th>\n",
       "      <td>red state fox news sunday reported morning ant...</td>\n",
       "      <td>1.0</td>\n",
       "    </tr>\n",
       "  </tbody>\n",
       "</table>\n",
       "</div>"
      ],
      "text/plain": [
       "                              text_without_stopwords  label\n",
       "0  print pay back money plus interest entire fami...    1.0\n",
       "1  attorney general loretta lynch plead fifth bar...    1.0\n",
       "2  red state fox news sunday reported morning ant...    1.0"
      ]
     },
     "execution_count": 73,
     "metadata": {},
     "output_type": "execute_result"
    }
   ],
   "source": [
    "dataset.head(3)"
   ]
  },
  {
   "cell_type": "code",
   "execution_count": 74,
   "metadata": {
    "id": "ivSFtTksvZf5"
   },
   "outputs": [],
   "source": [
    "#creating bag of words\n",
    "from sklearn.feature_extraction.text import CountVectorizer\n",
    "cv = CountVectorizer(max_features = 150000)\n",
    "X = cv.fit_transform(dataset.iloc[:,0]).toarray()\n",
    "y = dataset.iloc[:,-1]"
   ]
  },
  {
   "cell_type": "code",
   "execution_count": 75,
   "metadata": {
    "id": "P5en6Tdzvjka"
   },
   "outputs": [],
   "source": [
    "# Splitting the dataset into the Training set and Test set\n",
    "# separar aleatoriamente o dataset em base de treino e teste\n",
    "# separar 70% dos registros para treino e 30% para testes \n",
    "from sklearn.model_selection import train_test_split\n",
    "X_train, X_test, y_train, y_test = train_test_split(X, y, test_size = 0.2, random_state = 1)"
   ]
  },
  {
   "cell_type": "code",
   "execution_count": 76,
   "metadata": {
    "colab": {
     "base_uri": "https://localhost:8080/",
     "height": 153
    },
    "id": "KuadsJIGvzz0",
    "outputId": "b069f2ba-5506-450c-a21e-5252099029f6"
   },
   "outputs": [
    {
     "data": {
      "text/plain": [
       "ExtraTreesClassifier(bootstrap=False, ccp_alpha=0.0, class_weight=None,\n",
       "                     criterion='gini', max_depth=None, max_features='auto',\n",
       "                     max_leaf_nodes=None, max_samples=None,\n",
       "                     min_impurity_decrease=0.0, min_impurity_split=None,\n",
       "                     min_samples_leaf=1, min_samples_split=2,\n",
       "                     min_weight_fraction_leaf=0.0, n_estimators=100,\n",
       "                     n_jobs=None, oob_score=False, random_state=None, verbose=0,\n",
       "                     warm_start=False)"
      ]
     },
     "execution_count": 76,
     "metadata": {},
     "output_type": "execute_result"
    }
   ],
   "source": [
    "from sklearn.ensemble import ExtraTreesClassifier\n",
    "# criação do modelo Árvode de decisão\n",
    "modelo = ExtraTreesClassifier( criterion='gini')\n",
    "# executar modelo ou treinar o modelo de ML ou ainda aprender as relações dos dados\n",
    "modelo.fit(X_train,y_train)"
   ]
  },
  {
   "cell_type": "code",
   "execution_count": 77,
   "metadata": {
    "colab": {
     "base_uri": "https://localhost:8080/",
     "height": 34
    },
    "id": "KTj3l39gwUoe",
    "outputId": "928d9b1c-eedb-4102-c558-7f0eedacb2cd"
   },
   "outputs": [
    {
     "name": "stdout",
     "output_type": "stream",
     "text": [
      "Acurácia = 0.8268292682926829\n"
     ]
    }
   ],
   "source": [
    "# Acurácia do modelo\n",
    "# y_teste estão as classificações corretas \n",
    "# score = compara os dados de testes com os dados de treino (modelo rodou para os dados de treino) \n",
    "resultado = modelo.score(X_test, y_test)\n",
    "print('Acurácia =', resultado)"
   ]
  },
  {
   "cell_type": "code",
   "execution_count": 78,
   "metadata": {
    "id": "s2zt4s4SwnKA"
   },
   "outputs": [],
   "source": [
    "y_pred = modelo.predict(X_test)"
   ]
  },
  {
   "cell_type": "code",
   "execution_count": 79,
   "metadata": {
    "colab": {
     "base_uri": "https://localhost:8080/",
     "height": 51
    },
    "id": "LHbZFv5q1E3U",
    "outputId": "aa84b6fe-ac29-445c-c2b5-61dc1741dd5b"
   },
   "outputs": [
    {
     "data": {
      "text/plain": [
       "array([[260,  13],\n",
       "       [ 58,  79]], dtype=int64)"
      ]
     },
     "execution_count": 79,
     "metadata": {},
     "output_type": "execute_result"
    }
   ],
   "source": [
    "# Making the Confusion Matrix\n",
    "from sklearn.metrics import confusion_matrix\n",
    "cm = confusion_matrix(y_test, y_pred)\n",
    "cm"
   ]
  },
  {
   "cell_type": "code",
   "execution_count": 80,
   "metadata": {
    "colab": {
     "base_uri": "https://localhost:8080/",
     "height": 102
    },
    "id": "Tqg7L0wK5SLp",
    "outputId": "f3d9ccdc-e5da-4e6f-b21f-10af8be33f0e"
   },
   "outputs": [
    {
     "name": "stdout",
     "output_type": "stream",
     "text": [
      "Preditos  0.0  1.0  All\n",
      "Reais                  \n",
      "0.0       260   13  273\n",
      "1.0        58   79  137\n",
      "All       318   92  410\n"
     ]
    }
   ],
   "source": [
    "# Making the Detail Confusion Matrix\n",
    "print(pd.crosstab(y_test, y_pred, rownames=['Reais'],colnames=['Preditos'], margins=True))"
   ]
  },
  {
   "cell_type": "code",
   "execution_count": 81,
   "metadata": {
    "scrolled": true
   },
   "outputs": [],
   "source": [
    "filename = 'model18_extrd1.sav'\n",
    "pickle.dump(modelo, open(filename, 'wb'))"
   ]
  },
  {
   "cell_type": "code",
   "execution_count": 82,
   "metadata": {},
   "outputs": [
    {
     "data": {
      "text/plain": [
       "array([[230,  43],\n",
       "       [ 35, 102]], dtype=int64)"
      ]
     },
     "execution_count": 82,
     "metadata": {},
     "output_type": "execute_result"
    }
   ],
   "source": [
    "#move threshold\n",
    "threshold = 0.425\n",
    "\n",
    "predicted_proba = modelo.predict_proba(X_test)\n",
    "predicted = (predicted_proba [:,1] >= threshold).astype('int')\n",
    "\n",
    "cm = confusion_matrix(y_test, predicted)\n",
    "cm"
   ]
  }
 ],
 "metadata": {
  "colab": {
   "collapsed_sections": [],
   "name": "trainExtraTreesClassifier01.ipynb",
   "provenance": []
  },
  "kernelspec": {
   "display_name": "Python 3",
   "language": "python",
   "name": "python3"
  },
  "language_info": {
   "codemirror_mode": {
    "name": "ipython",
    "version": 3
   },
   "file_extension": ".py",
   "mimetype": "text/x-python",
   "name": "python",
   "nbconvert_exporter": "python",
   "pygments_lexer": "ipython3",
   "version": "3.7.6"
  }
 },
 "nbformat": 4,
 "nbformat_minor": 1
}
