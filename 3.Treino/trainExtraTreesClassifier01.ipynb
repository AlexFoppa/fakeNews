{
  "nbformat": 4,
  "nbformat_minor": 0,
  "metadata": {
    "colab": {
      "name": "trainExtraTreesClassifier01.ipynb",
      "provenance": [],
      "collapsed_sections": []
    },
    "kernelspec": {
      "name": "python3",
      "display_name": "Python 3"
    }
  },
  "cells": [
    {
      "cell_type": "code",
      "metadata": {
        "id": "fWeFm5b2vNMd"
      },
      "source": [
        "#Impory the libraries\n",
        "import numpy as np\n",
        "import matplotlib.pyplot as plt\n",
        "import pandas as pd \n",
        "import pickle"
      ],
      "execution_count": 1,
      "outputs": []
    },
    {
      "cell_type": "code",
      "metadata": {
        "id": "yYSElr2AvToJ"
      },
      "source": [
        "#load data\n",
        "originalDataset = pd.read_csv('news_articles.csv')\n",
        "textData = originalDataset.iloc[:,10]\n",
        "fakeOrReal = originalDataset.iloc[:,8]\n",
        "dataset = pd.concat([textData, fakeOrReal], axis=1, sort=False)\n",
        "dataset.drop(dataset.tail(50).index,inplace=True)"
      ],
      "execution_count": 2,
      "outputs": []
    },
    {
      "cell_type": "code",
      "metadata": {
        "id": "8c4Mpbm3vUxp",
        "outputId": "88ee2fc2-4acc-48ee-9eba-d8e9cae9c73b",
        "colab": {
          "base_uri": "https://localhost:8080/",
          "height": 142
        }
      },
      "source": [
        "dataset.head(3)"
      ],
      "execution_count": 3,
      "outputs": [
        {
          "output_type": "execute_result",
          "data": {
            "text/html": [
              "<div>\n",
              "<style scoped>\n",
              "    .dataframe tbody tr th:only-of-type {\n",
              "        vertical-align: middle;\n",
              "    }\n",
              "\n",
              "    .dataframe tbody tr th {\n",
              "        vertical-align: top;\n",
              "    }\n",
              "\n",
              "    .dataframe thead th {\n",
              "        text-align: right;\n",
              "    }\n",
              "</style>\n",
              "<table border=\"1\" class=\"dataframe\">\n",
              "  <thead>\n",
              "    <tr style=\"text-align: right;\">\n",
              "      <th></th>\n",
              "      <th>text_without_stopwords</th>\n",
              "      <th>label</th>\n",
              "    </tr>\n",
              "  </thead>\n",
              "  <tbody>\n",
              "    <tr>\n",
              "      <th>0</th>\n",
              "      <td>print pay back money plus interest entire fami...</td>\n",
              "      <td>Real</td>\n",
              "    </tr>\n",
              "    <tr>\n",
              "      <th>1</th>\n",
              "      <td>attorney general loretta lynch plead fifth bar...</td>\n",
              "      <td>Real</td>\n",
              "    </tr>\n",
              "    <tr>\n",
              "      <th>2</th>\n",
              "      <td>red state fox news sunday reported morning ant...</td>\n",
              "      <td>Real</td>\n",
              "    </tr>\n",
              "  </tbody>\n",
              "</table>\n",
              "</div>"
            ],
            "text/plain": [
              "                              text_without_stopwords label\n",
              "0  print pay back money plus interest entire fami...  Real\n",
              "1  attorney general loretta lynch plead fifth bar...  Real\n",
              "2  red state fox news sunday reported morning ant...  Real"
            ]
          },
          "metadata": {
            "tags": []
          },
          "execution_count": 3
        }
      ]
    },
    {
      "cell_type": "code",
      "metadata": {
        "id": "ivSFtTksvZf5"
      },
      "source": [
        "#creating bag of words\n",
        "from sklearn.feature_extraction.text import CountVectorizer\n",
        "cv = CountVectorizer(max_features = 150000)\n",
        "X = cv.fit_transform(dataset.iloc[:,0]).toarray()\n",
        "y = dataset.iloc[:,-1]"
      ],
      "execution_count": 4,
      "outputs": []
    },
    {
      "cell_type": "code",
      "metadata": {
        "id": "P5en6Tdzvjka"
      },
      "source": [
        "# Splitting the dataset into the Training set and Test set\n",
        "# separar aleatoriamente o dataset em base de treino e teste\n",
        "# separar 70% dos registros para treino e 30% para testes \n",
        "from sklearn.model_selection import train_test_split\n",
        "X_train, X_test, y_train, y_test = train_test_split(X, y, test_size = 0.3, random_state = 0)"
      ],
      "execution_count": 5,
      "outputs": []
    },
    {
      "cell_type": "code",
      "metadata": {
        "id": "KuadsJIGvzz0",
        "outputId": "b069f2ba-5506-450c-a21e-5252099029f6",
        "colab": {
          "base_uri": "https://localhost:8080/",
          "height": 153
        }
      },
      "source": [
        "from sklearn.ensemble import ExtraTreesClassifier\n",
        "# criação do modelo Árvode de decisão\n",
        "modelo = ExtraTreesClassifier( criterion='gini')\n",
        "# executar modelo ou treinar o modelo de ML ou ainda aprender as relações dos dados\n",
        "modelo.fit(X_train,y_train)"
      ],
      "execution_count": 8,
      "outputs": [
        {
          "output_type": "execute_result",
          "data": {
            "text/plain": [
              "ExtraTreesClassifier(bootstrap=False, ccp_alpha=0.0, class_weight=None,\n",
              "                     criterion='gini', max_depth=None, max_features='auto',\n",
              "                     max_leaf_nodes=None, max_samples=None,\n",
              "                     min_impurity_decrease=0.0, min_impurity_split=None,\n",
              "                     min_samples_leaf=1, min_samples_split=2,\n",
              "                     min_weight_fraction_leaf=0.0, n_estimators=100,\n",
              "                     n_jobs=None, oob_score=False, random_state=None, verbose=0,\n",
              "                     warm_start=False)"
            ]
          },
          "metadata": {
            "tags": []
          },
          "execution_count": 8
        }
      ]
    },
    {
      "cell_type": "code",
      "metadata": {
        "id": "KTj3l39gwUoe",
        "outputId": "928d9b1c-eedb-4102-c558-7f0eedacb2cd",
        "colab": {
          "base_uri": "https://localhost:8080/",
          "height": 34
        }
      },
      "source": [
        "# Acurácia do modelo\n",
        "# y_teste estão as classificações corretas \n",
        "# score = compara os dados de testes com os dados de treino (modelo rodou para os dados de treino) \n",
        "resultado = modelo.score(X_test, y_test)\n",
        "print('Acurácia =', resultado)"
      ],
      "execution_count": 9,
      "outputs": [
        {
          "output_type": "stream",
          "text": [
            "Acurácia = 0.739413680781759\n"
          ],
          "name": "stdout"
        }
      ]
    },
    {
      "cell_type": "code",
      "metadata": {
        "id": "s2zt4s4SwnKA"
      },
      "source": [
        "y_pred = modelo.predict(X_test)"
      ],
      "execution_count": 38,
      "outputs": []
    },
    {
      "cell_type": "code",
      "metadata": {
        "id": "LHbZFv5q1E3U",
        "outputId": "aa84b6fe-ac29-445c-c2b5-61dc1741dd5b",
        "colab": {
          "base_uri": "https://localhost:8080/",
          "height": 51
        }
      },
      "source": [
        "# Making the Confusion Matrix\n",
        "from sklearn.metrics import confusion_matrix\n",
        "cm = confusion_matrix(y_test, y_pred)\n",
        "cm"
      ],
      "execution_count": 39,
      "outputs": [
        {
          "output_type": "execute_result",
          "data": {
            "text/plain": [
              "array([[352,  36],\n",
              "       [124, 102]])"
            ]
          },
          "metadata": {
            "tags": []
          },
          "execution_count": 39
        }
      ]
    },
    {
      "cell_type": "code",
      "metadata": {
        "id": "Tqg7L0wK5SLp",
        "outputId": "f3d9ccdc-e5da-4e6f-b21f-10af8be33f0e",
        "colab": {
          "base_uri": "https://localhost:8080/",
          "height": 102
        }
      },
      "source": [
        "# Making the Detail Confusion Matrix\n",
        "print(pd.crosstab(y_test, y_pred, rownames=['Reais'],colnames=['Preditos'], margins=True))"
      ],
      "execution_count": 40,
      "outputs": [
        {
          "output_type": "stream",
          "text": [
            "Preditos  Fake  Real  All\n",
            "Reais                    \n",
            "Fake       352    36  388\n",
            "Real       124   102  226\n",
            "All        476   138  614\n"
          ],
          "name": "stdout"
        }
      ]
    }
  ]
}